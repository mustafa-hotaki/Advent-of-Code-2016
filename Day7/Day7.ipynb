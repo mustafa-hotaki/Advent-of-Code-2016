{
  "nbformat": 4,
  "nbformat_minor": 0,
  "metadata": {
    "colab": {
      "name": "Day7.ipynb",
      "provenance": [],
      "collapsed_sections": [],
      "toc_visible": true
    },
    "kernelspec": {
      "name": "python3",
      "display_name": "Python 3"
    }
  },
  "cells": [
    {
      "cell_type": "markdown",
      "metadata": {
        "id": "oMLOfk0QpHyh"
      },
      "source": [
        "# Advent of Code 2016 - Day 7\r\n",
        "\r\n"
      ]
    },
    {
      "cell_type": "code",
      "metadata": {
        "colab": {
          "base_uri": "https://localhost:8080/"
        },
        "id": "B6pX5pz4D0IS",
        "outputId": "6b2cac9d-538e-46cb-abaa-5029e17a4f6e"
      },
      "source": [
        "data = []\r\n",
        "with open('inputs_day_7.txt', 'r') as f:\r\n",
        "  for line in f:\r\n",
        "    data.append(line.strip())\r\n",
        "\r\n",
        "data[:5]"
      ],
      "execution_count": null,
      "outputs": [
        {
          "output_type": "execute_result",
          "data": {
            "text/plain": [
              "['wysextplwqpvipxdv[srzvtwbfzqtspxnethm]syqbzgtboxxzpwr[kljvjjkjyojzrstfgrw]obdhcczonzvbfby[svotajtpttohxsh]cooktbyumlpxostt',\n",
              " 'emzopymywhhxulxuctj[dwwvkzhoigmbmnf]nxgbgfwqvrypqxppyq[qozsihnhpztcrpbdc]rnhnakmrdcowatw[rhvchmzmyfxlolwe]uysecbspabtauvmixa',\n",
              " 'bqooxxweoytjghrqn[hkwwukixothfyglw]kpasnmikmbzcbfi[vlnyszifsaaicagxtqf]ucdyxasusefuuxlx',\n",
              " 'rxpusykufgqujfe[rypwoorxdemxffui]cvvcufcqmxoxcphp[witynplrfvquduiot]vcysdcsowcxhphp[gctucefriclxaonpwe]jdprpdvpeumrhokrcjt',\n",
              " 'iungssgfnnjlgdferc[xfffplonmzjmxkinhl]dehxdielvncdawomqk[teizynepguvtgofr]fjazkxesmlwryphifh[ppjfvfefqhmuqtdp]luopramrehtriilwlou']"
            ]
          },
          "metadata": {
            "tags": []
          },
          "execution_count": 38
        }
      ]
    },
    {
      "cell_type": "markdown",
      "metadata": {
        "id": "MfiEmX0OpHYd"
      },
      "source": [
        "# Part 1"
      ]
    },
    {
      "cell_type": "code",
      "metadata": {
        "colab": {
          "base_uri": "https://localhost:8080/"
        },
        "id": "0ButcQO1KRWg",
        "outputId": "98e28e3c-e852-4acd-f481-fff073380380"
      },
      "source": [
        "def break_into_pieces(string):\r\n",
        "  string += '['\r\n",
        "  pieces = []\r\n",
        "\r\n",
        "  begin = 0\r\n",
        "\r\n",
        "  index = 0\r\n",
        "  while(index < len(string)):\r\n",
        "    if string[index] == '[':\r\n",
        "      pieces.append(string[begin : index])\r\n",
        "      begin = index\r\n",
        "\r\n",
        "    elif string[index] == ']':\r\n",
        "      pieces.append(string[begin : index + 1])\r\n",
        "      begin = index + 1\r\n",
        "\r\n",
        "    index += 1\r\n",
        "\r\n",
        "  return pieces\r\n",
        "\r\n",
        "print(data[0])\r\n",
        "break_into_pieces(data[0])"
      ],
      "execution_count": null,
      "outputs": [
        {
          "output_type": "stream",
          "text": [
            "wysextplwqpvipxdv[srzvtwbfzqtspxnethm]syqbzgtboxxzpwr[kljvjjkjyojzrstfgrw]obdhcczonzvbfby[svotajtpttohxsh]cooktbyumlpxostt\n"
          ],
          "name": "stdout"
        },
        {
          "output_type": "execute_result",
          "data": {
            "text/plain": [
              "['wysextplwqpvipxdv',\n",
              " '[srzvtwbfzqtspxnethm]',\n",
              " 'syqbzgtboxxzpwr',\n",
              " '[kljvjjkjyojzrstfgrw]',\n",
              " 'obdhcczonzvbfby',\n",
              " '[svotajtpttohxsh]',\n",
              " 'cooktbyumlpxostt']"
            ]
          },
          "metadata": {
            "tags": []
          },
          "execution_count": 62
        }
      ]
    },
    {
      "cell_type": "code",
      "metadata": {
        "colab": {
          "base_uri": "https://localhost:8080/"
        },
        "id": "o4XBnjUkLrgD",
        "outputId": "f690fe4b-4b46-4d3c-9250-229b9c499e15"
      },
      "source": [
        "def four_letter_palindromes_no_repeat_chars(string):\r\n",
        "\r\n",
        "  palindromes = []\r\n",
        "\r\n",
        "  for i in range(0, len(string) - 4 + 1):\r\n",
        "    grabbed = string[i : i + 4]\r\n",
        "    #print(grabbed)\r\n",
        "    if len(grabbed) == 4:\r\n",
        "      if grabbed[:2] == grabbed[2:][::-1] and grabbed[0] != grabbed[1]:\r\n",
        "        palindromes.append(grabbed)\r\n",
        "\r\n",
        "  return palindromes\r\n",
        "\r\n",
        "four_letter_palindromes_no_repeat_chars('ioxxoj')\r\n"
      ],
      "execution_count": null,
      "outputs": [
        {
          "output_type": "execute_result",
          "data": {
            "text/plain": [
              "['oxxo']"
            ]
          },
          "metadata": {
            "tags": []
          },
          "execution_count": 54
        }
      ]
    },
    {
      "cell_type": "code",
      "metadata": {
        "colab": {
          "base_uri": "https://localhost:8080/"
        },
        "id": "i-6xqNchoRcf",
        "outputId": "7136803f-13f7-4ad5-f520-9bbcfe4285ec"
      },
      "source": [
        "valid_counter = 0\r\n",
        "\r\n",
        "for line in data:\r\n",
        "  pieces = break_into_pieces(line)\r\n",
        "\r\n",
        "  valid = False\r\n",
        "  for p in pieces:\r\n",
        "    if not '[' in p:\r\n",
        "      palindromes = four_letter_palindromes_no_repeat_chars(p)\r\n",
        "      if len(palindromes) > 0:\r\n",
        "        valid = True\r\n",
        "\r\n",
        "  for p in pieces:\r\n",
        "    if '[' in p:\r\n",
        "      palindromes = four_letter_palindromes_no_repeat_chars(p)\r\n",
        "      if len(palindromes) > 0:\r\n",
        "        valid = False\r\n",
        "\r\n",
        "\r\n",
        "\r\n",
        "\r\n",
        "  valid_counter += valid\r\n",
        "\r\n",
        "\r\n",
        "\r\n",
        "valid_counter"
      ],
      "execution_count": null,
      "outputs": [
        {
          "output_type": "execute_result",
          "data": {
            "text/plain": [
              "118"
            ]
          },
          "metadata": {
            "tags": []
          },
          "execution_count": 67
        }
      ]
    },
    {
      "cell_type": "code",
      "metadata": {
        "colab": {
          "base_uri": "https://localhost:8080/"
        },
        "id": "D1JwUHeMUJDF",
        "outputId": "b1a142dd-0ac3-4ce8-8f24-e32aa7c4709a"
      },
      "source": [
        "valid_counter = 0\r\n",
        "#for line in data:\r\n",
        "\r\n",
        "line = 'ioxxoj[asdfgh]zxcvbn'\r\n",
        "palindromes = four_letter_palindromes_no_repeat_chars(line)\r\n",
        "\r\n",
        "if len(palindromes) > 0:\r\n",
        "  print(palindromes)\r\n",
        "  valid_counter += 1\r\n",
        "\r\n",
        "\r\n",
        "valid_counter"
      ],
      "execution_count": null,
      "outputs": [
        {
          "output_type": "stream",
          "text": [
            "['oxxo']\n"
          ],
          "name": "stdout"
        },
        {
          "output_type": "execute_result",
          "data": {
            "text/plain": [
              "1"
            ]
          },
          "metadata": {
            "tags": []
          },
          "execution_count": 61
        }
      ]
    },
    {
      "cell_type": "markdown",
      "metadata": {
        "id": "kkwfF1rQkrZH"
      },
      "source": [
        "## Part 2\r\n"
      ]
    },
    {
      "cell_type": "code",
      "metadata": {
        "id": "AZwsNqYPFH9E",
        "colab": {
          "base_uri": "https://localhost:8080/"
        },
        "outputId": "45282688-9344-4d61-fb2d-dc4bfce7043e"
      },
      "source": [
        "def find_aba_bab_pattern(string):\r\n",
        "  pieces = break_into_pieces(string)\r\n",
        "\r\n",
        "  outside = [x for x in pieces if not '[' in x]\r\n",
        "  inside = [x[1:-1] for x in pieces if '[' in x]\r\n",
        "\r\n",
        "  for p in outside:\r\n",
        "    #print('p_outside:', p)\r\n",
        "    for i in range(len(p) - 2):\r\n",
        "      grabbed = p[i : i + 3]\r\n",
        "      #print('grabbed outside:', grabbed)\r\n",
        "      if grabbed[0] != grabbed[1] and grabbed[0] == grabbed[2]:\r\n",
        "\r\n",
        "        # Found ABA, ensure BAB exists\r\n",
        "        found = False\r\n",
        "        for p_inside in inside:\r\n",
        "          #print('p_inside', p_inside)\r\n",
        "          for j in range(len(p_inside) - 2):\r\n",
        "            grabbed_inside = p_inside[j : j + 3]\r\n",
        "            #print('grabbed inside:', grabbed_inside)\r\n",
        "            if grabbed_inside == grabbed[1] + grabbed[0] + grabbed[1]:\r\n",
        "              found = True\r\n",
        "              return True\r\n",
        "\r\n",
        "  return False\r\n",
        "\r\n",
        "\r\n",
        "find_aba_bab_pattern('zazbz[bzb]cdb')"
      ],
      "execution_count": null,
      "outputs": [
        {
          "output_type": "execute_result",
          "data": {
            "text/plain": [
              "True"
            ]
          },
          "metadata": {
            "tags": []
          },
          "execution_count": 88
        }
      ]
    },
    {
      "cell_type": "code",
      "metadata": {
        "colab": {
          "base_uri": "https://localhost:8080/"
        },
        "id": "6kRaZlAMpynD",
        "outputId": "3adee78a-0a9a-465d-ec73-19bb87958c90"
      },
      "source": [
        "valid_counter = 0\r\n",
        "for line in data:\r\n",
        "  valid_counter += find_aba_bab_pattern(line)\r\n",
        "\r\n",
        "valid_counter"
      ],
      "execution_count": null,
      "outputs": [
        {
          "output_type": "execute_result",
          "data": {
            "text/plain": [
              "260"
            ]
          },
          "metadata": {
            "tags": []
          },
          "execution_count": 89
        }
      ]
    },
    {
      "cell_type": "code",
      "metadata": {
        "id": "xzsTm_Ogr3zS"
      },
      "source": [
        ""
      ],
      "execution_count": null,
      "outputs": []
    }
  ]
}