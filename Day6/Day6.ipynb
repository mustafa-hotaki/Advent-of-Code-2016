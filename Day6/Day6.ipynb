{
  "nbformat": 4,
  "nbformat_minor": 0,
  "metadata": {
    "colab": {
      "name": "Day6.ipynb",
      "provenance": [],
      "collapsed_sections": [],
      "toc_visible": true
    },
    "kernelspec": {
      "name": "python3",
      "display_name": "Python 3"
    }
  },
  "cells": [
    {
      "cell_type": "markdown",
      "metadata": {
        "id": "oMLOfk0QpHyh"
      },
      "source": [
        "# Advent of Code 2016 - Day 6\r\n",
        "\r\n"
      ]
    },
    {
      "cell_type": "code",
      "metadata": {
        "colab": {
          "base_uri": "https://localhost:8080/"
        },
        "id": "B6pX5pz4D0IS",
        "outputId": "0aaf0ea5-9b19-41f9-b6bf-c5beee628154"
      },
      "source": [
        "data = []\r\n",
        "with open('inputs_day_6.txt', 'r') as f:\r\n",
        "  for line in f:\r\n",
        "    data.append(line.strip())\r\n",
        "\r\n",
        "data[:5]"
      ],
      "execution_count": 1,
      "outputs": [
        {
          "output_type": "execute_result",
          "data": {
            "text/plain": [
              "['wxupppln', 'ducindyd', 'rhszlyfu', 'kouqvpue', 'nwntizie']"
            ]
          },
          "metadata": {
            "tags": []
          },
          "execution_count": 1
        }
      ]
    },
    {
      "cell_type": "markdown",
      "metadata": {
        "id": "MfiEmX0OpHYd"
      },
      "source": [
        "# Part 1"
      ]
    },
    {
      "cell_type": "code",
      "metadata": {
        "colab": {
          "base_uri": "https://localhost:8080/"
        },
        "id": "koqNBFPpD3mp",
        "outputId": "46faa302-fd94-4cba-f040-564dc2d9ff41"
      },
      "source": [
        "# Assume no ties\r\n",
        "from collections import Counter\r\n",
        "\r\n",
        "columns = [''.join([x[i] for x in data]) for i in range(len(data[0]))]\r\n",
        "\r\n",
        "for col in columns:\r\n",
        "  c = Counter(col)\r\n",
        "  print(c.most_common(1)[0][0], end = '')"
      ],
      "execution_count": 2,
      "outputs": [
        {
          "output_type": "stream",
          "text": [
            "ikerpcty"
          ],
          "name": "stdout"
        }
      ]
    },
    {
      "cell_type": "markdown",
      "metadata": {
        "id": "kkwfF1rQkrZH"
      },
      "source": [
        "## Part 2\r\n"
      ]
    },
    {
      "cell_type": "code",
      "metadata": {
        "id": "0usIvrZ1BSOi",
        "colab": {
          "base_uri": "https://localhost:8080/"
        },
        "outputId": "4a3416e1-94d8-4541-d8bf-fe699e704714"
      },
      "source": [
        "# Assume no ties\r\n",
        "from collections import Counter\r\n",
        "\r\n",
        "columns = [''.join([x[i] for x in data]) for i in range(len(data[0]))]\r\n",
        "\r\n",
        "for col in columns:\r\n",
        "  c = Counter(col)\r\n",
        "  print(c.most_common()[-1][0], end = '')"
      ],
      "execution_count": 3,
      "outputs": [
        {
          "output_type": "stream",
          "text": [
            "uwpfaqrq"
          ],
          "name": "stdout"
        }
      ]
    },
    {
      "cell_type": "code",
      "metadata": {
        "id": "AZwsNqYPFH9E"
      },
      "source": [
        ""
      ],
      "execution_count": 3,
      "outputs": []
    }
  ]
}