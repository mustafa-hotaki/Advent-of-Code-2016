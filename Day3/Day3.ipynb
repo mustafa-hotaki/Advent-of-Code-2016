{
  "nbformat": 4,
  "nbformat_minor": 0,
  "metadata": {
    "colab": {
      "name": "Day3.ipynb",
      "provenance": [],
      "collapsed_sections": [],
      "toc_visible": true
    },
    "kernelspec": {
      "name": "python3",
      "display_name": "Python 3"
    }
  },
  "cells": [
    {
      "cell_type": "markdown",
      "metadata": {
        "id": "oMLOfk0QpHyh"
      },
      "source": [
        "# Advent of Code 2016 - Day 3"
      ]
    },
    {
      "cell_type": "code",
      "metadata": {
        "colab": {
          "base_uri": "https://localhost:8080/",
          "height": 35
        },
        "id": "APUym3OcpIfK",
        "outputId": "db27fe19-aa8b-4784-91f1-ae40aa018b1c"
      },
      "source": [
        "data = []\r\n",
        "with open('inputs_day_3.txt', 'r') as f:\r\n",
        "  for line in f:\r\n",
        "    data.append(line.strip())\r\n",
        "\r\n",
        "data[0]"
      ],
      "execution_count": 1,
      "outputs": [
        {
          "output_type": "execute_result",
          "data": {
            "application/vnd.google.colaboratory.intrinsic+json": {
              "type": "string"
            },
            "text/plain": [
              "'330  143  338'"
            ]
          },
          "metadata": {
            "tags": []
          },
          "execution_count": 1
        }
      ]
    },
    {
      "cell_type": "code",
      "metadata": {
        "colab": {
          "base_uri": "https://localhost:8080/"
        },
        "id": "lsTV8mVu_Mji",
        "outputId": "53fa6c5f-7438-4f4f-af9b-6046424da30d"
      },
      "source": [
        "# Parse\r\n",
        "traingle_specs = []\r\n",
        "for line in data:\r\n",
        "  x = [int(x.strip()) for x in line.split(' ') if len(x) > 0]\r\n",
        "  traingle_specs.append(x)\r\n",
        "\r\n",
        "traingle_specs[:5]"
      ],
      "execution_count": 2,
      "outputs": [
        {
          "output_type": "execute_result",
          "data": {
            "text/plain": [
              "[[330, 143, 338],\n",
              " [769, 547, 83],\n",
              " [930, 625, 317],\n",
              " [669, 866, 147],\n",
              " [15, 881, 210]]"
            ]
          },
          "metadata": {
            "tags": []
          },
          "execution_count": 2
        }
      ]
    },
    {
      "cell_type": "markdown",
      "metadata": {
        "id": "MfiEmX0OpHYd"
      },
      "source": [
        "# Part 1\r\n",
        "\r\n",
        "This is the well-known[ triangle inequality theorem](https://en.wikipedia.org/wiki/Triangle_inequality). Given three sides of a triangle $a$, $b$, and $c$, the following must hold:\r\n",
        "\r\n",
        "$$a + b > c$$\r\n",
        "$$a + c > b$$\r\n",
        "$$b + c > a$$"
      ]
    },
    {
      "cell_type": "code",
      "metadata": {
        "colab": {
          "base_uri": "https://localhost:8080/"
        },
        "id": "08KFlGCV_954",
        "outputId": "e8262506-3221-42f5-a8a6-4f12c6e2b2d8"
      },
      "source": [
        "valid_counter = 0\r\n",
        "\r\n",
        "for a, b, c in traingle_specs:\r\n",
        "  valid_counter += a + b > c and a + c > b and b + c > a\r\n",
        "\r\n",
        "valid_counter\r\n"
      ],
      "execution_count": 3,
      "outputs": [
        {
          "output_type": "execute_result",
          "data": {
            "text/plain": [
              "917"
            ]
          },
          "metadata": {
            "tags": []
          },
          "execution_count": 3
        }
      ]
    },
    {
      "cell_type": "markdown",
      "metadata": {
        "id": "kkwfF1rQkrZH"
      },
      "source": [
        "## Part 2\r\n"
      ]
    },
    {
      "cell_type": "code",
      "metadata": {
        "colab": {
          "base_uri": "https://localhost:8080/"
        },
        "id": "g7V2STFABk5N",
        "outputId": "ffa787d1-138f-443f-f0d8-24cd7fddd0f4"
      },
      "source": [
        "valid_counter = 0\r\n",
        "\r\n",
        "cols = [[x[i] for x in traingle_specs] for i in range(3)]\r\n",
        "\r\n",
        "for col in cols:\r\n",
        "  for i in range(0, len(col), 3):\r\n",
        "    a, b, c = col[i], col[i + 1], col[i + 2]\r\n",
        "    valid_counter += a + b > c and a + c > b and b + c > a\r\n",
        "\r\n",
        "valid_counter"
      ],
      "execution_count": 4,
      "outputs": [
        {
          "output_type": "execute_result",
          "data": {
            "text/plain": [
              "1649"
            ]
          },
          "metadata": {
            "tags": []
          },
          "execution_count": 4
        }
      ]
    }
  ]
}