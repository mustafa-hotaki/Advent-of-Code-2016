{
  "nbformat": 4,
  "nbformat_minor": 0,
  "metadata": {
    "colab": {
      "name": "Day5.ipynb",
      "provenance": [],
      "collapsed_sections": [],
      "toc_visible": true
    },
    "kernelspec": {
      "name": "python3",
      "display_name": "Python 3"
    }
  },
  "cells": [
    {
      "cell_type": "markdown",
      "metadata": {
        "id": "oMLOfk0QpHyh"
      },
      "source": [
        "# Advent of Code 2016 - Day 4\r\n",
        "\r\n",
        "This is similar to the [Advent of Code 2015 - Day 4](https://github.com/mustafa-hotaki/Advent-of-Code-2015/blob/1d290091486241428791ee619f25d713da405016/Day4/Day4.ipynb). I will resue my solution from there."
      ]
    },
    {
      "cell_type": "code",
      "metadata": {
        "id": "nnYMbUbq_gDf"
      },
      "source": [
        "block = 'ffykfhsq'"
      ],
      "execution_count": 1,
      "outputs": []
    },
    {
      "cell_type": "markdown",
      "metadata": {
        "id": "MfiEmX0OpHYd"
      },
      "source": [
        "# Part 1"
      ]
    },
    {
      "cell_type": "code",
      "metadata": {
        "colab": {
          "base_uri": "https://localhost:8080/",
          "height": 203
        },
        "id": "kR3U31Ll_Rcn",
        "outputId": "4725f066-5129-455b-f951-765fefca3d4b"
      },
      "source": [
        "import time\r\n",
        "import hashlib \r\n",
        "\r\n",
        "start_time = time.time()\r\n",
        "\r\n",
        "nonce = 0\r\n",
        "password = ''\r\n",
        "while(True):\r\n",
        "  combined = block + str(nonce)\r\n",
        "  result = hashlib.md5(combined.encode('utf-8')).hexdigest()\r\n",
        "  if(result[:5] == '0' * 5):\r\n",
        "    print(nonce, result)\r\n",
        "    password += result[5]\r\n",
        "    if len(password) == 8: break\r\n",
        "\r\n",
        "  nonce += 1\r\n",
        "\r\n",
        "print(\"\\nExecution completed in {} seconds.\".format(time.time() - start_time))\r\n",
        "password"
      ],
      "execution_count": 2,
      "outputs": [
        {
          "output_type": "stream",
          "text": [
            "515840 00000c6c3f533fe4f7b0cb6d851185a8\n",
            "844745 000006a94bb1c9322cbb56dd8564e76e\n",
            "2968550 000006c8c9090315b0fb38154a947c86\n",
            "4034943 00000970faef6424564944d5e8a59618\n",
            "5108969 000007b2e0e83dfeade14ebe09f9e6a7\n",
            "5257971 00000bc5fdee6506b09262247ceb63f0\n",
            "5830668 0000051079ac6b44fc3a5266a1630d42\n",
            "5833677 00000537192966c3ee924306195faede\n",
            "\n",
            "Execution completed in 8.697821855545044 seconds.\n"
          ],
          "name": "stdout"
        },
        {
          "output_type": "execute_result",
          "data": {
            "application/vnd.google.colaboratory.intrinsic+json": {
              "type": "string"
            },
            "text/plain": [
              "'c6697b55'"
            ]
          },
          "metadata": {
            "tags": []
          },
          "execution_count": 2
        }
      ]
    },
    {
      "cell_type": "code",
      "metadata": {
        "colab": {
          "base_uri": "https://localhost:8080/",
          "height": 35
        },
        "id": "x6AqbnsWAa_8",
        "outputId": "8de75683-13fe-4df9-90e1-9b76d21402ee"
      },
      "source": [
        "password"
      ],
      "execution_count": 3,
      "outputs": [
        {
          "output_type": "execute_result",
          "data": {
            "application/vnd.google.colaboratory.intrinsic+json": {
              "type": "string"
            },
            "text/plain": [
              "'c6697b55'"
            ]
          },
          "metadata": {
            "tags": []
          },
          "execution_count": 3
        }
      ]
    },
    {
      "cell_type": "markdown",
      "metadata": {
        "id": "kkwfF1rQkrZH"
      },
      "source": [
        "## Part 2\r\n"
      ]
    },
    {
      "cell_type": "code",
      "metadata": {
        "id": "SUv2DzJW1A5h",
        "colab": {
          "base_uri": "https://localhost:8080/",
          "height": 203
        },
        "outputId": "70f4b371-ef14-489b-af4d-69674a2cc99c"
      },
      "source": [
        "import time\r\n",
        "import hashlib \r\n",
        "\r\n",
        "start_time = time.time()\r\n",
        "\r\n",
        "nonce = 0\r\n",
        "password = ['_'] * 8\r\n",
        "count = 0\r\n",
        "\r\n",
        "while(True):\r\n",
        "  combined = block + str(nonce)\r\n",
        "  result = hashlib.md5(combined.encode('utf-8')).hexdigest()\r\n",
        "  if(result[:5] == '0' * 5):\r\n",
        "    try:\r\n",
        "      pos = int(result[5])\r\n",
        "      if password[pos] == '_':\r\n",
        "        password[pos] = result[6]\r\n",
        "        print(nonce, result)\r\n",
        "        count += 1\r\n",
        "    except:\r\n",
        "      pass\r\n",
        "\r\n",
        "    if count == 8: break\r\n",
        "\r\n",
        "  nonce += 1\r\n",
        "\r\n",
        "print(\"\\nExecution completed in {} seconds.\".format(time.time() - start_time))\r\n",
        "''.join(password)"
      ],
      "execution_count": 4,
      "outputs": [
        {
          "output_type": "stream",
          "text": [
            "844745 000006a94bb1c9322cbb56dd8564e76e\n",
            "5108969 000007b2e0e83dfeade14ebe09f9e6a7\n",
            "5830668 0000051079ac6b44fc3a5266a1630d42\n",
            "6497076 0000008239d1bbf480ea541e9da1e494\n",
            "8962195 00000351ce68ffb449644d4bfa4cee5d\n",
            "23867827 000001c3c28bcbacf0f543a33548ef24\n",
            "24090051 000004d57fc545f376c09f27383b2c88\n",
            "26383109 0000023d12c49f028699d4679ba91780\n",
            "\n",
            "Execution completed in 34.958988428115845 seconds.\n"
          ],
          "name": "stdout"
        },
        {
          "output_type": "execute_result",
          "data": {
            "application/vnd.google.colaboratory.intrinsic+json": {
              "type": "string"
            },
            "text/plain": [
              "'8c35d1ab'"
            ]
          },
          "metadata": {
            "tags": []
          },
          "execution_count": 4
        }
      ]
    },
    {
      "cell_type": "code",
      "metadata": {
        "id": "0usIvrZ1BSOi"
      },
      "source": [
        ""
      ],
      "execution_count": 4,
      "outputs": []
    }
  ]
}