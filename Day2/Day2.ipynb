{
  "nbformat": 4,
  "nbformat_minor": 0,
  "metadata": {
    "colab": {
      "name": "Day2.ipynb",
      "provenance": [],
      "collapsed_sections": [],
      "toc_visible": true
    },
    "kernelspec": {
      "name": "python3",
      "display_name": "Python 3"
    }
  },
  "cells": [
    {
      "cell_type": "markdown",
      "metadata": {
        "id": "oMLOfk0QpHyh"
      },
      "source": [
        "# Advent of Code 2016 - Day 2\r\n",
        "\r\n",
        "Inconsisten approach between Part 1 and 2. I may come back and refine this."
      ]
    },
    {
      "cell_type": "code",
      "metadata": {
        "id": "APUym3OcpIfK"
      },
      "source": [
        "data = []\r\n",
        "with open('inputs_day_2.txt', 'r') as f:\r\n",
        "  for line in f:\r\n",
        "    data.append(line.strip())\r\n"
      ],
      "execution_count": 1,
      "outputs": []
    },
    {
      "cell_type": "markdown",
      "metadata": {
        "id": "MfiEmX0OpHYd"
      },
      "source": [
        "# Part 1"
      ]
    },
    {
      "cell_type": "code",
      "metadata": {
        "colab": {
          "base_uri": "https://localhost:8080/",
          "height": 35
        },
        "id": "zdpgb8l81fr1",
        "outputId": "6f0afd76-5ce4-43ce-c6bf-724ad6e03309"
      },
      "source": [
        "keypad = [[1, 2, 3], \r\n",
        "          [4, 5, 6], \r\n",
        "          [7, 8, 9]]\r\n",
        "\r\n",
        "location = [1, 1]\r\n",
        "password = []\r\n",
        "for line in data:\r\n",
        "  for instr in line:\r\n",
        "    if instr == 'R':\r\n",
        "      location[1] = min(location[1] + 1, len(keypad) - 1)\r\n",
        "    elif instr == 'L':\r\n",
        "      location[1] = max(location[1] - 1, 0)\r\n",
        "    elif instr == 'D':\r\n",
        "      location[0] = min(location[0] + 1, len(keypad) - 1)\r\n",
        "    elif instr == 'U':\r\n",
        "      location[0] = max(location[0] - 1, 0)\r\n",
        "    #print(instr, location)\r\n",
        "\r\n",
        "  password.append(str(keypad[location[0]][location[1]]))\r\n",
        "\r\n",
        "  #break\r\n",
        "''.join(password) "
      ],
      "execution_count": 2,
      "outputs": [
        {
          "output_type": "execute_result",
          "data": {
            "application/vnd.google.colaboratory.intrinsic+json": {
              "type": "string"
            },
            "text/plain": [
              "'33444'"
            ]
          },
          "metadata": {
            "tags": []
          },
          "execution_count": 2
        }
      ]
    },
    {
      "cell_type": "markdown",
      "metadata": {
        "id": "kkwfF1rQkrZH"
      },
      "source": [
        "## Part 2\r\n"
      ]
    },
    {
      "cell_type": "code",
      "metadata": {
        "id": "EM4Kly1Q8ysr"
      },
      "source": [
        "keypad = {(0, 2) : '1',\r\n",
        "          (1, 1) : '2', (1, 2): '3', (1, 3) : '4',\r\n",
        "          (2, 0) : '5', (2, 1) : '6', (2, 2) : '7', (2, 3) : '8', (2, 4) : '9',\r\n",
        "          (3, 1) : 'A', (3, 2) : 'B', (3, 3) : 'C',\r\n",
        "          (4, 2): 'D'}"
      ],
      "execution_count": 3,
      "outputs": []
    },
    {
      "cell_type": "code",
      "metadata": {
        "colab": {
          "base_uri": "https://localhost:8080/",
          "height": 35
        },
        "id": "Ldfci9mk9hVK",
        "outputId": "16a6a901-5e05-4f8c-845b-104aabe393f0"
      },
      "source": [
        "location = [2, 0] #5\r\n",
        "password = []\r\n",
        "for line in data:\r\n",
        "  for instr in line:\r\n",
        "    test_location = [x for x in location]\r\n",
        "    if instr == 'R':\r\n",
        "      test_location[1] = location[1] + 1\r\n",
        "    elif instr == 'L':\r\n",
        "      test_location[1] = location[1] - 1\r\n",
        "    elif instr == 'D':\r\n",
        "      test_location[0] = location[0] + 1\r\n",
        "    elif instr == 'U':\r\n",
        "      test_location[0] = location[0] - 1\r\n",
        "\r\n",
        "    if tuple(test_location) in keypad:\r\n",
        "      location = [x for x in test_location]\r\n",
        "\r\n",
        "  # Assumes a change did occur\r\n",
        "  password.append(keypad[tuple(location)])\r\n",
        "\r\n",
        "  #break\r\n",
        "''.join(password) "
      ],
      "execution_count": 4,
      "outputs": [
        {
          "output_type": "execute_result",
          "data": {
            "application/vnd.google.colaboratory.intrinsic+json": {
              "type": "string"
            },
            "text/plain": [
              "'446A6'"
            ]
          },
          "metadata": {
            "tags": []
          },
          "execution_count": 4
        }
      ]
    },
    {
      "cell_type": "code",
      "metadata": {
        "id": "5wwLEU9V-B2y"
      },
      "source": [
        ""
      ],
      "execution_count": 4,
      "outputs": []
    }
  ]
}