{
  "nbformat": 4,
  "nbformat_minor": 0,
  "metadata": {
    "colab": {
      "name": "Day8.ipynb",
      "provenance": [],
      "collapsed_sections": [],
      "toc_visible": true
    },
    "kernelspec": {
      "name": "python3",
      "display_name": "Python 3"
    }
  },
  "cells": [
    {
      "cell_type": "markdown",
      "metadata": {
        "id": "oMLOfk0QpHyh"
      },
      "source": [
        "# Advent of Code 2016 - Day 8\r\n",
        "\r\n"
      ]
    },
    {
      "cell_type": "code",
      "metadata": {
        "colab": {
          "base_uri": "https://localhost:8080/"
        },
        "id": "B6pX5pz4D0IS",
        "outputId": "240f6d9a-5556-4ca9-a62d-e4446a6a0a55"
      },
      "source": [
        "data = []\r\n",
        "with open('inputs_day_8.txt', 'r') as f:\r\n",
        "  for line in f:\r\n",
        "    data.append(line.strip())\r\n",
        "\r\n",
        "data[:5]"
      ],
      "execution_count": null,
      "outputs": [
        {
          "output_type": "execute_result",
          "data": {
            "text/plain": [
              "['rect 1x1',\n",
              " 'rotate row y=0 by 5',\n",
              " 'rect 1x1',\n",
              " 'rotate row y=0 by 5',\n",
              " 'rect 1x1']"
            ]
          },
          "metadata": {
            "tags": []
          },
          "execution_count": 73
        }
      ]
    },
    {
      "cell_type": "code",
      "metadata": {
        "colab": {
          "base_uri": "https://localhost:8080/"
        },
        "id": "zCoshrD0mPS7",
        "outputId": "32cd87b9-dc1b-400e-adcc-a6f339a3879a"
      },
      "source": [
        "# Parse\r\n",
        "commands = []\r\n",
        "for line in data:\r\n",
        "  if line.startswith('rect'):\r\n",
        "    x = [int(i) for i in line[line.find(' ') : ].split('x')]\r\n",
        "    commands.append(tuple(['rect'] + x ))\r\n",
        "\r\n",
        "  elif line.startswith('rotate'):\r\n",
        "    from_axis_forward = line[line.find('=') - 1 : ]\r\n",
        "    axis = from_axis_forward[0]\r\n",
        "    axis_val = int(from_axis_forward[from_axis_forward.find('=') + 1 : from_axis_forward.find(' ')])\r\n",
        "    by_value = int(from_axis_forward[from_axis_forward.rfind(' ') + 1 : ])\r\n",
        "    commands.append(tuple(['rotate'] + [axis, axis_val, by_value] ))\r\n",
        "\r\n",
        "commands[:10]"
      ],
      "execution_count": null,
      "outputs": [
        {
          "output_type": "execute_result",
          "data": {
            "text/plain": [
              "[('rect', 1, 1),\n",
              " ('rotate', 'y', 0, 5),\n",
              " ('rect', 1, 1),\n",
              " ('rotate', 'y', 0, 5),\n",
              " ('rect', 1, 1),\n",
              " ('rotate', 'y', 0, 3),\n",
              " ('rect', 1, 1),\n",
              " ('rotate', 'y', 0, 2),\n",
              " ('rect', 1, 1),\n",
              " ('rotate', 'y', 0, 3)]"
            ]
          },
          "metadata": {
            "tags": []
          },
          "execution_count": 74
        }
      ]
    },
    {
      "cell_type": "markdown",
      "metadata": {
        "id": "MfiEmX0OpHYd"
      },
      "source": [
        "# Part 1"
      ]
    },
    {
      "cell_type": "code",
      "metadata": {
        "colab": {
          "base_uri": "https://localhost:8080/"
        },
        "id": "kQgjEqepoQyP",
        "outputId": "2dfa509d-0775-405f-f453-a9c3a0c4c202"
      },
      "source": [
        "height = 6\r\n",
        "width = 50\r\n",
        "grid = [[0] * width for i in range(height)]\r\n",
        "\r\n",
        "#print(*grid, sep='\\n', end='\\n\\n')\r\n",
        "\r\n",
        "for command in commands:\r\n",
        "\r\n",
        "  if command[0] == 'rect':\r\n",
        "\r\n",
        "    for i in range(command[2]): # Iterate over rows 0 ... B - 1\r\n",
        "      for j in range(command[1]): # Iterae over columns 0 ... A - 1\r\n",
        "        grid[i][j] = 1 # Turn on\r\n",
        "\r\n",
        "  elif command[0] == 'rotate':\r\n",
        "\r\n",
        "    if command[1] == 'x': # Rotate column\r\n",
        "      grabbed = [x[command[2]] for x in grid]\r\n",
        "      rotated = grabbed[-command[3]:] + grabbed[ : -command[3]]\r\n",
        "      for i in range(len(grid)): # Iterate over rows\r\n",
        "        grid[i][command[2]] = rotated[i]\r\n",
        "\r\n",
        "    elif command[1] == 'y': # Rotate row\r\n",
        "      grabbed = grid[command[2]]\r\n",
        "      rotated = grabbed[-command[3]:] + grabbed[ : -command[3]]\r\n",
        "      for j in range(len(grid[command[2]])): # Iterate over columns\r\n",
        "        grid[command[2]][j] = rotated[j]\r\n",
        "\r\n",
        "\r\n",
        "  #print(*grid, sep='\\n', end='\\n\\n')\r\n",
        "\r\n",
        "sum([sum(row) for row in grid])"
      ],
      "execution_count": null,
      "outputs": [
        {
          "output_type": "execute_result",
          "data": {
            "text/plain": [
              "106"
            ]
          },
          "metadata": {
            "tags": []
          },
          "execution_count": 80
        }
      ]
    },
    {
      "cell_type": "markdown",
      "metadata": {
        "id": "P4FOlBNoORVD"
      },
      "source": [
        "## Part 2"
      ]
    },
    {
      "cell_type": "code",
      "metadata": {
        "colab": {
          "base_uri": "https://localhost:8080/"
        },
        "id": "8QYhHHg5wYwk",
        "outputId": "36a6b8c4-25fc-48a0-bc78-8b1236ac0e73"
      },
      "source": [
        "# Taken from my solution to Advent of Code 2019 - Day 8\r\n",
        "for row in grid:\r\n",
        "  for pixel in row:\r\n",
        "    if(pixel == 1):\r\n",
        "      print(u'\\u2588', end='')\r\n",
        "    else:\r\n",
        "      print(' ', end='')\r\n",
        "  print()\r\n",
        "\r\n",
        "# CFLELOYFCS"
      ],
      "execution_count": null,
      "outputs": [
        {
          "output_type": "stream",
          "text": [
            " ██  ████ █    ████ █     ██  █   █████  ██   ███ \n",
            "█  █ █    █    █    █    █  █ █   ██    █  █ █    \n",
            "█    ███  █    ███  █    █  █  █ █ ███  █    █    \n",
            "█    █    █    █    █    █  █   █  █    █     ██  \n",
            "█  █ █    █    █    █    █  █   █  █    █  █    █ \n",
            " ██  █    ████ ████ ████  ██    █  █     ██  ███  \n"
          ],
          "name": "stdout"
        }
      ]
    },
    {
      "cell_type": "code",
      "metadata": {
        "id": "BqYBN245sNgE"
      },
      "source": [
        ""
      ],
      "execution_count": null,
      "outputs": []
    }
  ]
}