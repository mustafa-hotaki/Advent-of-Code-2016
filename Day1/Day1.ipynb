{
  "nbformat": 4,
  "nbformat_minor": 0,
  "metadata": {
    "colab": {
      "name": "Day1.ipynb",
      "provenance": [],
      "collapsed_sections": [],
      "toc_visible": true
    },
    "kernelspec": {
      "name": "python3",
      "display_name": "Python 3"
    }
  },
  "cells": [
    {
      "cell_type": "markdown",
      "metadata": {
        "id": "bSHfrv-SOm7n"
      },
      "source": [
        "# Advent of Code 2016 - Day 1"
      ]
    },
    {
      "cell_type": "code",
      "metadata": {
        "colab": {
          "base_uri": "https://localhost:8080/"
        },
        "id": "eKBDyPvfOoBN",
        "outputId": "2ae0995c-864c-4003-d133-d0d07a70ed1b"
      },
      "source": [
        "data = []\r\n",
        "with open('inputs_day_1.txt', 'r') as f:\r\n",
        "  for line in f:\r\n",
        "    data.append(line)\r\n",
        "data"
      ],
      "execution_count": 1,
      "outputs": [
        {
          "output_type": "execute_result",
          "data": {
            "text/plain": [
              "['R4, R4, L1, R3, L5, R2, R5, R1, L4, R3, L5, R2, L3, L4, L3, R1, R5, R1, L3, L1, R3, L1, R2, R2, L2, R5, L3, L4, R4, R4, R2, L4, L1, R5, L1, L4, R4, L1, R1, L2, R5, L2, L3, R2, R1, L194, R2, L4, R49, R1, R3, L5, L4, L1, R4, R2, R1, L5, R3, L5, L4, R4, R4, L2, L3, R78, L5, R4, R191, R4, R3, R1, L2, R1, R3, L1, R3, R4, R2, L2, R1, R4, L5, R2, L2, L4, L2, R1, R2, L3, R5, R2, L3, L3, R3, L1, L1, R5, L4, L4, L2, R5, R1, R4, L3, L5, L4, R5, L4, R5, R4, L3, L2, L5, R4, R3, L3, R1, L5, R5, R1, L3, R2, L5, R5, L3, R1, R4, L5, R4, R2, R3, L4, L5, R3, R4, L5, L5, R4, L4, L4, R1, R5, R3, L1, L4, L3, L4, R1, L5, L1, R2, R2, R4, R4, L5, R4, R1, L1, L1, L3, L5, L2, R4, L3, L5, L4, L1, R3\\n']"
            ]
          },
          "metadata": {
            "tags": []
          },
          "execution_count": 1
        }
      ]
    },
    {
      "cell_type": "code",
      "metadata": {
        "colab": {
          "base_uri": "https://localhost:8080/"
        },
        "id": "KMLKgiBGhH-N",
        "outputId": "4ec7e4f7-4860-4439-9e7b-1ed6261360b0"
      },
      "source": [
        "instructions = [(x[0], int(x[1 : ])) for x in data[0].split(', ')]\r\n",
        "instructions[:5]"
      ],
      "execution_count": 2,
      "outputs": [
        {
          "output_type": "execute_result",
          "data": {
            "text/plain": [
              "[('R', 4), ('R', 4), ('L', 1), ('R', 3), ('L', 5)]"
            ]
          },
          "metadata": {
            "tags": []
          },
          "execution_count": 2
        }
      ]
    },
    {
      "cell_type": "code",
      "metadata": {
        "id": "vBz2flaQkMDt"
      },
      "source": [
        "# Borrowed from my code for AoC 2020, Day 12\r\n",
        "dir_pos = {'N' : 90, 'W' : 180, 'S': 270, 'E': 0}\r\n",
        "dir_pos_reverse = {90 : 'N', 180 : 'W', 270 : 'S', 0 : 'E'}\r\n",
        "\r\n",
        "def rotate(initial, dir, deg):\r\n",
        "  new_degree = 0\r\n",
        "  if(dir == 'L'):\r\n",
        "    new_degree = (dir_pos[initial] + deg) % 360\r\n",
        "  elif(dir == 'R'):\r\n",
        "    new_degree = (dir_pos[initial] - deg) % 360\r\n",
        "\r\n",
        "  new_degree = int(new_degree)\r\n",
        "  return dir_pos_reverse[new_degree]"
      ],
      "execution_count": 3,
      "outputs": []
    },
    {
      "cell_type": "code",
      "metadata": {
        "colab": {
          "base_uri": "https://localhost:8080/"
        },
        "id": "sp4Qi5dphMdv",
        "outputId": "3642e628-a9d4-4d4a-cecd-6a94b1cbcf32"
      },
      "source": [
        "\r\n",
        "position = [0, 0]\r\n",
        "direction = 'N'\r\n",
        "for action, value in instructions:\r\n",
        "  direction = rotate(direction, action, 90)\r\n",
        "\r\n",
        "  if direction == 'N': position[1] += value\r\n",
        "  elif direction == 'S': position[1] -= value\r\n",
        "  elif direction == 'E': position[0] -= value\r\n",
        "  elif direction == 'W': position[0] += value\r\n",
        "\r\n",
        "position"
      ],
      "execution_count": 4,
      "outputs": [
        {
          "output_type": "execute_result",
          "data": {
            "text/plain": [
              "[-61, -85]"
            ]
          },
          "metadata": {
            "tags": []
          },
          "execution_count": 4
        }
      ]
    },
    {
      "cell_type": "code",
      "metadata": {
        "colab": {
          "base_uri": "https://localhost:8080/"
        },
        "id": "vbOXnnBzkLDl",
        "outputId": "ac9e635b-b06a-4baa-fba2-2ba1ecc4c6f8"
      },
      "source": [
        "# Manhattan Distance\r\n",
        "abs(position[0]) + abs(position[1])"
      ],
      "execution_count": 5,
      "outputs": [
        {
          "output_type": "execute_result",
          "data": {
            "text/plain": [
              "146"
            ]
          },
          "metadata": {
            "tags": []
          },
          "execution_count": 5
        }
      ]
    },
    {
      "cell_type": "markdown",
      "metadata": {
        "id": "kkwfF1rQkrZH"
      },
      "source": [
        "## Part 2\r\n",
        "\r\n",
        "Ugly solution, but I didn't wanna think more about it."
      ]
    },
    {
      "cell_type": "code",
      "metadata": {
        "colab": {
          "base_uri": "https://localhost:8080/"
        },
        "id": "bXqZHaA5kq0w",
        "outputId": "8a4b8814-4b73-4b1e-8604-fae8d484001a"
      },
      "source": [
        "position = [0, 0]\r\n",
        "direction = 'N'\r\n",
        "visited_before = []\r\n",
        "for action, value in instructions:\r\n",
        "  direction = rotate(direction, action, 90)\r\n",
        "\r\n",
        "  if direction == 'N':\r\n",
        "    for i in range(1, value + 1):\r\n",
        "      along_path_node = (position[0], position[1] + i)\r\n",
        "      if along_path_node in visited_before:\r\n",
        "        print('found', along_path_node, abs(along_path_node[0]) + abs(along_path_node[1]))\r\n",
        "      else:\r\n",
        "        visited_before.append(along_path_node)\r\n",
        "    position[1] += value\r\n",
        "\r\n",
        "  elif direction == 'S': \r\n",
        "    \r\n",
        "    for i in range(1, value + 1):\r\n",
        "      along_path_node = (position[0], position[1] - i)\r\n",
        "      if along_path_node in visited_before:\r\n",
        "        print('found', along_path_node, abs(along_path_node[0]) + abs(along_path_node[1]))\r\n",
        "      else:\r\n",
        "        visited_before.append(along_path_node)\r\n",
        "\r\n",
        "    position[1] -= value\r\n",
        "\r\n",
        "  elif direction == 'E': \r\n",
        "    \r\n",
        "    for i in range(1, value + 1):\r\n",
        "      along_path_node = (position[0] + i, position[1])\r\n",
        "      if along_path_node in visited_before:\r\n",
        "        print('found', along_path_node, abs(along_path_node[0]) + abs(along_path_node[1]))\r\n",
        "      else:\r\n",
        "        visited_before.append(along_path_node)\r\n",
        "\r\n",
        "    position[0] += value\r\n",
        "    \r\n",
        "  elif direction == 'W': \r\n",
        "    for i in range(1, value + 1):\r\n",
        "      along_path_node = (position[0] - i, position[1])\r\n",
        "      if along_path_node in visited_before:\r\n",
        "        print('found', along_path_node, abs(along_path_node[0]) + abs(along_path_node[1]))\r\n",
        "      else:\r\n",
        "        visited_before.append(along_path_node)\r\n",
        "\r\n",
        "    position[0] -= value\r\n",
        "\r\n",
        "# 131"
      ],
      "execution_count": 17,
      "outputs": [
        {
          "output_type": "stream",
          "text": [
            "found (-34, -97) 131\n",
            "found (97, -98) 195\n",
            "found (95, -101) 196\n",
            "found (94, -100) 194\n",
            "found (93, -100) 193\n",
            "found (92, -100) 192\n",
            "found (80, -107) 187\n",
            "found (80, -106) 186\n",
            "found (80, -105) 185\n",
            "found (80, -104) 184\n",
            "found (81, -104) 185\n",
            "found (84, -106) 190\n",
            "found (76, -97) 173\n",
            "found (78, -93) 171\n",
            "found (76, -95) 171\n",
            "found (69, -81) 150\n",
            "found (66, -86) 152\n",
            "found (66, -90) 156\n",
            "found (66, -91) 157\n",
            "found (63, -91) 154\n",
            "found (63, -90) 153\n",
            "found (64, -86) 150\n",
            "found (64, -85) 149\n",
            "found (61, -88) 149\n",
            "found (61, -89) 150\n",
            "found (61, -90) 151\n",
            "found (60, -90) 150\n",
            "found (57, -90) 147\n",
            "found (58, -90) 148\n",
            "found (59, -90) 149\n",
            "found (58, -85) 143\n",
            "found (59, -85) 144\n",
            "found (61, -85) 146\n"
          ],
          "name": "stdout"
        }
      ]
    },
    {
      "cell_type": "code",
      "metadata": {
        "id": "4izPwOgGm_Sv"
      },
      "source": [
        ""
      ],
      "execution_count": 6,
      "outputs": []
    }
  ]
}